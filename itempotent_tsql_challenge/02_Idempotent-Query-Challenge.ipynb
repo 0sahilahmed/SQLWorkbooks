{
    "metadata": {
        "kernelspec": {
            "name": "SQL",
            "display_name": "SQL",
            "language": "sql"
        },
        "language_info": {
            "name": "sql",
            "version": ""
        }
    },
    "nbformat_minor": 2,
    "nbformat": 4,
    "cells": [
        {
            "cell_type": "markdown",
            "source": "# The Idempotent Query Challenge",
            "metadata": {}
        },
        {
            "cell_type": "markdown",
            "source": "_This SQLChallenge uses the Northwind Database, which is copyright Microsoft and shared under the MIT license. To set up the database, run 01_setup-recreate Northwind.sql against a SQL Server instance dedicated to testing. Some parts of this challenge only work on SQL Server 2016 and higher._",
            "metadata": {}
        },
        {
            "cell_type": "markdown",
            "source": "## 1. Make this TSQL for an index create statement rerunnable\r\n\r\n* If an index with this name exists on this table, you can assume that it has the correct definition (you do not have to check that the definition matches)\r\n* Do not drop the index or cause it to be automatically dropped when re-run\r\n",
            "metadata": {}
        },
        {
            "cell_type": "code",
            "source": "USE Northwind;\r\nGO\r\n\r\nCREATE NONCLUSTERED INDEX ix_Customers_City_PostalCode_INCLUDES on dbo.Customers \r\n    (City, PostalCode) \r\n    INCLUDE (Region);\r\nGO\r\n",
            "metadata": {},
            "outputs": [],
            "execution_count": 9
        },
        {
            "cell_type": "markdown",
            "source": "### Write and test your solution here",
            "metadata": {}
        },
        {
            "cell_type": "code",
            "source": "USE Northwind;\r\nGO\r\n\r\n",
            "metadata": {},
            "outputs": [],
            "execution_count": 0
        },
        {
            "cell_type": "markdown",
            "source": "___\r\n## 2. Make this view creation statement rerunnable in two ways -- without using DROP VIEW",
            "metadata": {}
        },
        {
            "cell_type": "code",
            "source": "USE Northwind;\r\nGO\r\n\r\nCREATE VIEW [dbo].[Idempotent] AS\r\nSELECT Orders.ShippedDate, \r\n    Orders.OrderID, \r\n    [Order Subtotals].Subtotal\r\nFROM Orders \r\nINNER JOIN [Order Subtotals] ON Orders.OrderID = [Order Subtotals].OrderID\r\nWHERE Orders.ShippedDate IS NOT NULL\r\nGO",
            "metadata": {},
            "outputs": [],
            "execution_count": 7
        },
        {
            "cell_type": "markdown",
            "source": "### 2.A First, write this in a way that will work on SQL Server 2005 and higher\r\n* Not that you have to find a 2005 instance to test it on. Simply use a syntax that was introduced well before SQL Server 2016 SP1.\r\n* Write your solution in a way that does not use DROP VIEW",
            "metadata": {}
        },
        {
            "cell_type": "code",
            "source": "USE Northwind;\r\nGO\r\n\r\n",
            "metadata": {},
            "outputs": [],
            "execution_count": 0
        },
        {
            "cell_type": "markdown",
            "source": "### 2.B Write it in the *new* way that works in SQL Server 2016 SP1 and higher",
            "metadata": {}
        },
        {
            "cell_type": "code",
            "source": "USE Northwind;\r\nGO\r\n\r\n\r\n",
            "metadata": {},
            "outputs": [],
            "execution_count": 0
        },
        {
            "cell_type": "markdown",
            "source": "___\r\n## 3. Make these DROP TABLE statements rerunnable in two ways\r\n\r\nFirst, create the tables. Rerun as needed for testing.",
            "metadata": {}
        },
        {
            "cell_type": "code",
            "source": "USE Northwind;\r\nGO\r\n\r\nCREATE TABLE dbo.dropme1 (col1 int null);\r\nCREATE TABLE dbo.dropme2 (col2 int null);\r\nGO",
            "metadata": {},
            "outputs": [],
            "execution_count": 1
        },
        {
            "cell_type": "markdown",
            "source": "Here is the non-idempotent drops to rewrite:",
            "metadata": {}
        },
        {
            "cell_type": "code",
            "source": "USE Northwind;\r\nGO\r\n\r\nDROP TABLE dbo.dropme1;\r\n\r\nDROP TABLE dbo.dropme2;\r\nGO",
            "metadata": {},
            "outputs": [],
            "execution_count": 3
        },
        {
            "cell_type": "markdown",
            "source": "### 3.A Write this in the \"classic\" way which works on versions lower than SQL Server 2016",
            "metadata": {}
        },
        {
            "cell_type": "code",
            "source": "USE Northwind;\r\nGO\r\n\r\n",
            "metadata": {},
            "outputs": [],
            "execution_count": 0
        },
        {
            "cell_type": "markdown",
            "source": "### 3.B Write this in the \"new\" way introduced in SQL Server 2016\r\n",
            "metadata": {}
        },
        {
            "cell_type": "code",
            "source": "USE Northwind;\r\nGO\r\n\r\n",
            "metadata": {},
            "outputs": [],
            "execution_count": 0
        },
        {
            "cell_type": "markdown",
            "source": "___\r\n## 4. Write this set of permission statements in a rerunnable way\r\n",
            "metadata": {}
        },
        {
            "cell_type": "code",
            "source": "USE Northwind;\r\nGO\r\n\r\nCREATE ROLE NewRole AUTHORIZATION dbo;\r\nGO\r\n\r\nGRANT SELECT on schema::dbo TO NewRole;\r\nGO\r\n\r\nCREATE USER NewUser WITHOUT LOGIN;\r\nGO\r\n\r\nALTER ROLE NewRole ADD MEMBER NewUser;\r\nGO\r\n\r\n--Validate\r\nEXECUTE AS USER = 'NewUser';\r\nGO\r\nSELECT SUSER_NAME(), USER_NAME(); \r\n\r\nSELECT TOP 1 CompanyName\r\nFROM dbo.Customers;\r\nGO\r\n\r\n\r\nREVERT;\r\nGO\r\n\r\n",
            "metadata": {},
            "outputs": [
                {
                    "output_type": "display_data",
                    "data": {
                        "text/html": "Commands completed successfully."
                    },
                    "metadata": {}
                },
                {
                    "output_type": "display_data",
                    "data": {
                        "text/html": "Commands completed successfully."
                    },
                    "metadata": {}
                },
                {
                    "output_type": "display_data",
                    "data": {
                        "text/html": "Commands completed successfully."
                    },
                    "metadata": {}
                },
                {
                    "output_type": "display_data",
                    "data": {
                        "text/html": "Commands completed successfully."
                    },
                    "metadata": {}
                },
                {
                    "output_type": "display_data",
                    "data": {
                        "text/html": "Commands completed successfully."
                    },
                    "metadata": {}
                },
                {
                    "output_type": "display_data",
                    "data": {
                        "text/html": "Commands completed successfully."
                    },
                    "metadata": {}
                },
                {
                    "output_type": "display_data",
                    "data": {
                        "text/html": "(1 row affected)"
                    },
                    "metadata": {}
                },
                {
                    "output_type": "display_data",
                    "data": {
                        "text/html": "(1 row affected)"
                    },
                    "metadata": {}
                },
                {
                    "output_type": "display_data",
                    "data": {
                        "text/html": "Commands completed successfully."
                    },
                    "metadata": {}
                },
                {
                    "output_type": "display_data",
                    "data": {
                        "text/html": "Total execution time: 00:00:00.019"
                    },
                    "metadata": {}
                },
                {
                    "output_type": "execute_result",
                    "metadata": {},
                    "execution_count": 1,
                    "data": {
                        "application/vnd.dataresource+json": {
                            "schema": {
                                "fields": [
                                    {
                                        "name": "(No column name)"
                                    },
                                    {
                                        "name": "(No column name)"
                                    }
                                ]
                            },
                            "data": [
                                {
                                    "0": "S-1-9-3-1268272048-1262666524-3751799949-301852570",
                                    "1": "NewUser"
                                }
                            ]
                        },
                        "text/html": "<table><tr><th>(No column name)</th><th>(No column name)</th></tr><tr><td>S-1-9-3-1268272048-1262666524-3751799949-301852570</td><td>NewUser</td></tr></table>"
                    }
                },
                {
                    "output_type": "execute_result",
                    "metadata": {},
                    "execution_count": 1,
                    "data": {
                        "application/vnd.dataresource+json": {
                            "schema": {
                                "fields": [
                                    {
                                        "name": "CompanyName"
                                    }
                                ]
                            },
                            "data": [
                                {
                                    "0": "Alfreds Futterkiste"
                                }
                            ]
                        },
                        "text/html": "<table><tr><th>CompanyName</th></tr><tr><td>Alfreds Futterkiste</td></tr></table>"
                    }
                }
            ],
            "execution_count": 7
        },
        {
            "cell_type": "markdown",
            "source": "### Solution goes here",
            "metadata": {}
        },
        {
            "cell_type": "code",
            "source": "USE Northwind;\r\nGO\r\n\r\n\r\n\r\n",
            "metadata": {},
            "outputs": [],
            "execution_count": 8
        }
    ]
}