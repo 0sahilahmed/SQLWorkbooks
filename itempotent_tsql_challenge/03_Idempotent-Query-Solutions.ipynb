{
    "metadata": {
        "kernelspec": {
            "name": "SQL",
            "display_name": "SQL",
            "language": "sql"
        },
        "language_info": {
            "name": "sql",
            "version": ""
        }
    },
    "nbformat_minor": 2,
    "nbformat": 4,
    "cells": [
        {
            "cell_type": "markdown",
            "source": "# The Idempotent Query Challenge",
            "metadata": {}
        },
        {
            "cell_type": "markdown",
            "source": "_This SQLChallenge uses the Northwind Database, which is copyright Microsoft and shared under the MIT license. To set up the database, run 01_setup-recreate Northwind.sql against a SQL Server instance dedicated to testing. Some parts of this challenge only work on SQL Server 2016 and higher._",
            "metadata": {}
        },
        {
            "cell_type": "markdown",
            "source": "## 1. Make this TSQL for an index create statement rerunnable\r\n\r\n* If an index with this name exists on this table, you can assume that it has the correct definition (you do not have to check that the definition matches)\r\n* Do not drop the index or cause it to be automatically dropped when re-run\r\n",
            "metadata": {}
        },
        {
            "cell_type": "code",
            "source": "USE Northwind;\r\nGO\r\n\r\nCREATE NONCLUSTERED INDEX ix_Customers_City_PostalCode_INCLUDES on dbo.Customers \r\n    (City, PostalCode) \r\n    INCLUDE (Region);\r\nGO\r\n",
            "metadata": {},
            "outputs": [
                {
                    "output_type": "display_data",
                    "data": {
                        "text/html": "Commands completed successfully."
                    },
                    "metadata": {}
                },
                {
                    "output_type": "error",
                    "evalue": "Msg 1913, Level 16, State 1, Line 3\r\nThe operation failed because an index or statistics with name 'ix_Customers_City_PostalCode_INCLUDES' already exists on table 'dbo.Customers'.",
                    "ename": "",
                    "traceback": []
                },
                {
                    "output_type": "display_data",
                    "data": {
                        "text/html": "Total execution time: 00:00:00.096"
                    },
                    "metadata": {}
                }
            ],
            "execution_count": 13
        },
        {
            "cell_type": "markdown",
            "source": "### Write and test your solution here",
            "metadata": {}
        },
        {
            "cell_type": "code",
            "source": "USE Northwind;\nGO\n\nIF (\n    SELECT COUNT(*)\n    FROM sys.indexes as si \n    JOIN sys.objects as so on si.object_id = so.object_id\n    JOIN sys.schemas as sc on so.schema_id = sc.schema_id\n    WHERE si.name='ix_Customers_City_PostalCode_INCLUDES'\n        and so.name = 'Customers'\n        and sc.name = 'dbo'\n) = 0\nBEGIN\n    CREATE NONCLUSTERED INDEX ix_Customers_City_PostalCode_INCLUDES on dbo.Customers \n        (City, PostalCode) \n        INCLUDE (Region);\nEND\nELSE \nBEGIN\n    RAISERROR ('Index already exists', 1, 1) WITH NOWAIT\nEND",
            "metadata": {},
            "outputs": [
                {
                    "output_type": "display_data",
                    "data": {
                        "text/html": "Commands completed successfully."
                    },
                    "metadata": {}
                },
                {
                    "output_type": "display_data",
                    "data": {
                        "text/html": "Msg 50000, Level 1, State 1, Line 19\r\nIndex already exists"
                    },
                    "metadata": {}
                },
                {
                    "output_type": "display_data",
                    "data": {
                        "text/html": "Total execution time: 00:00:00.203"
                    },
                    "metadata": {}
                }
            ],
            "execution_count": 14
        },
        {
            "cell_type": "markdown",
            "source": "#### A test: does DROP_EXISTING = ON actually do anything if the index already exists and you haven't changed the definition?",
            "metadata": {}
        },
        {
            "cell_type": "code",
            "source": "USE Northwind;\r\nGO\r\n\r\nSET STATISTICS IO ON;\r\nGO\r\n\r\nCREATE NONCLUSTERED INDEX ix_Customers_City_PostalCode_INCLUDES on dbo.Customers \r\n    (City, PostalCode) \r\n    INCLUDE (Region) WITH (DROP_EXISTING = ON, FILLFACTOR=1);  /* beware fillfactor 1!, only doing that to inflate IO */\r\nGO\r\n\r\nSELECT \r\n    index_id, \r\n    so.modify_date\r\nFROM sys.indexes as si \r\nJOIN sys.objects as so on si.object_id = so.object_id\r\nWHERE si.name='ix_Customers_City_PostalCode_INCLUDES';\r\nGO\r\n\r\nSET STATISTICS IO OFF;\r\nGO\r\n",
            "metadata": {},
            "outputs": [
                {
                    "output_type": "display_data",
                    "data": {
                        "text/html": "Commands completed successfully."
                    },
                    "metadata": {}
                },
                {
                    "output_type": "display_data",
                    "data": {
                        "text/html": "Commands completed successfully."
                    },
                    "metadata": {}
                },
                {
                    "output_type": "display_data",
                    "data": {
                        "text/html": "Table 'Customers'. Scan count 1, logical reads 48, physical reads 0, read-ahead reads 0, lob logical reads 0, lob physical reads 0, lob read-ahead reads 0."
                    },
                    "metadata": {}
                },
                {
                    "output_type": "display_data",
                    "data": {
                        "text/html": "(1 row affected)"
                    },
                    "metadata": {}
                },
                {
                    "output_type": "display_data",
                    "data": {
                        "text/html": "Table 'sysschobjs'. Scan count 0, logical reads 4, physical reads 0, read-ahead reads 0, lob logical reads 0, lob physical reads 0, lob read-ahead reads 0."
                    },
                    "metadata": {}
                },
                {
                    "output_type": "display_data",
                    "data": {
                        "text/html": "Table 'sysidxstats'. Scan count 1, logical reads 4, physical reads 0, read-ahead reads 0, lob logical reads 0, lob physical reads 0, lob read-ahead reads 0."
                    },
                    "metadata": {}
                },
                {
                    "output_type": "display_data",
                    "data": {
                        "text/html": "Commands completed successfully."
                    },
                    "metadata": {}
                },
                {
                    "output_type": "display_data",
                    "data": {
                        "text/html": "Total execution time: 00:00:00.032"
                    },
                    "metadata": {}
                },
                {
                    "output_type": "execute_result",
                    "metadata": {},
                    "execution_count": 17,
                    "data": {
                        "application/vnd.dataresource+json": {
                            "schema": {
                                "fields": [
                                    {
                                        "name": "index_id"
                                    },
                                    {
                                        "name": "modify_date"
                                    }
                                ]
                            },
                            "data": [
                                {
                                    "0": "6",
                                    "1": "2019-06-29 12:28:36.883"
                                }
                            ]
                        },
                        "text/html": "<table><tr><th>index_id</th><th>modify_date</th></tr><tr><td>6</td><td>2019-06-29 12:28:36.883</td></tr></table>"
                    }
                }
            ],
            "execution_count": 17
        },
        {
            "cell_type": "markdown",
            "source": "___\r\n## 2. Make this view creation statement rerunnable in two ways -- without using DROP VIEW\r\n",
            "metadata": {}
        },
        {
            "cell_type": "code",
            "source": "USE Northwind;\r\nGO\r\n\r\nCREATE VIEW [dbo].[Idempotent] AS\r\nSELECT Orders.ShippedDate, \r\n    Orders.OrderID, \r\n    [Order Subtotals].Subtotal\r\nFROM Orders \r\nINNER JOIN [Order Subtotals] ON Orders.OrderID = [Order Subtotals].OrderID\r\nWHERE Orders.ShippedDate IS NOT NULL\r\nGO",
            "metadata": {},
            "outputs": [],
            "execution_count": 11
        },
        {
            "cell_type": "markdown",
            "source": "### 2.A First, write this in a way that will work on SQL Server 2005 and higher\r\n* Not that you have to find a 2005 instance to test it on. Simply use a syntax that was introduced well before SQL Server 2016 SP1.\r\n* Write your solution in a way that does not use DROP VIEW",
            "metadata": {}
        },
        {
            "cell_type": "code",
            "source": "USE Northwind;\r\nGO\r\n\r\n\r\nIF OBJECT_ID('dbo.Idempotent', 'V') IS NULL\r\n    EXEC ('CREATE VIEW dbo.Idempotent AS SELECT 1 as col1')\r\nGO\r\n\r\nALTER VIEW [dbo].[Idempotent] AS\r\nSELECT Orders.ShippedDate, \r\n    Orders.OrderID, \r\n    [Order Subtotals].Subtotal\r\nFROM Orders \r\nINNER JOIN [Order Subtotals] ON Orders.OrderID = [Order Subtotals].OrderID\r\nWHERE Orders.ShippedDate IS NOT NULL\r\nGO\r\n\r\n--Extra: if you alter objects referenced in the view definition\r\n--https://docs.microsoft.com/en-us/sql/relational-databases/system-stored-procedures/sp-refreshview-transact-sql\r\nexec sp_refreshview @viewname='dbo.Idempotent';\r\nGO\r\n",
            "metadata": {},
            "outputs": [
                {
                    "output_type": "display_data",
                    "data": {
                        "text/html": "Commands completed successfully."
                    },
                    "metadata": {}
                },
                {
                    "output_type": "display_data",
                    "data": {
                        "text/html": "Commands completed successfully."
                    },
                    "metadata": {}
                },
                {
                    "output_type": "display_data",
                    "data": {
                        "text/html": "Commands completed successfully."
                    },
                    "metadata": {}
                },
                {
                    "output_type": "display_data",
                    "data": {
                        "text/html": "Commands completed successfully."
                    },
                    "metadata": {}
                },
                {
                    "output_type": "display_data",
                    "data": {
                        "text/html": "Total execution time: 00:00:00.010"
                    },
                    "metadata": {}
                }
            ],
            "execution_count": 20
        },
        {
            "cell_type": "markdown",
            "source": "### 2.B Write it in the *new* way that works in SQL Server 2016 SP1 and higher",
            "metadata": {}
        },
        {
            "cell_type": "code",
            "source": "USE Northwind;\r\nGO\r\n\r\nCREATE OR ALTER VIEW [dbo].[Idempotent] AS\r\nSELECT Orders.ShippedDate, \r\n    Orders.OrderID, \r\n    [Order Subtotals].Subtotal\r\nFROM Orders \r\nINNER JOIN [Order Subtotals] ON Orders.OrderID = [Order Subtotals].OrderID\r\nWHERE Orders.ShippedDate IS NOT NULL\r\nGO\r\n\r\n\r\n--Extra: if you alter objects referenced in the view definition, you'd still need to update the metadata\r\n--The new syntax doesn't change that 😃\r\nexec sp_refreshview @viewname='dbo.Idempotent';\r\nGO\r\n",
            "metadata": {},
            "outputs": [
                {
                    "output_type": "display_data",
                    "data": {
                        "text/html": "Commands completed successfully."
                    },
                    "metadata": {}
                },
                {
                    "output_type": "display_data",
                    "data": {
                        "text/html": "Commands completed successfully."
                    },
                    "metadata": {}
                },
                {
                    "output_type": "display_data",
                    "data": {
                        "text/html": "Commands completed successfully."
                    },
                    "metadata": {}
                },
                {
                    "output_type": "display_data",
                    "data": {
                        "text/html": "Total execution time: 00:00:00.011"
                    },
                    "metadata": {}
                }
            ],
            "execution_count": 23
        },
        {
            "cell_type": "markdown",
            "source": "___\r\n## 3. Make these DROP TABLE statements rerunnable in two ways\r\n\r\nFirst, create the tables. Rerun as needed for testing.",
            "metadata": {}
        },
        {
            "cell_type": "code",
            "source": "USE Northwind;\r\nGO\r\n\r\nCREATE TABLE dbo.dropme1 (col1 int null);\r\nCREATE TABLE dbo.dropme2 (col2 int null);\r\nGO",
            "metadata": {},
            "outputs": [
                {
                    "output_type": "display_data",
                    "data": {
                        "text/html": "Commands completed successfully."
                    },
                    "metadata": {}
                },
                {
                    "output_type": "display_data",
                    "data": {
                        "text/html": "Commands completed successfully."
                    },
                    "metadata": {}
                },
                {
                    "output_type": "display_data",
                    "data": {
                        "text/html": "Total execution time: 00:00:00.341"
                    },
                    "metadata": {}
                }
            ],
            "execution_count": 29
        },
        {
            "cell_type": "markdown",
            "source": "Here is the non-idempotent drops to rewrite:",
            "metadata": {}
        },
        {
            "cell_type": "code",
            "source": "USE Northwind;\r\nGO\r\n\r\nDROP TABLE dbo.dropme1;\r\n\r\nDROP TABLE dbo.dropme2;\r\nGO",
            "metadata": {},
            "outputs": [],
            "execution_count": 44
        },
        {
            "cell_type": "markdown",
            "source": "### 3.A Write this in the \"classic\" way which works on versions lower than SQL Server 2016",
            "metadata": {}
        },
        {
            "cell_type": "code",
            "source": "USE Northwind;\r\nGO\r\n\r\nIF OBJECT_ID('dbo.dropme1', 'U') IS NOT NULL\r\n    DROP TABLE dbo.dropme1;\r\n\r\nIF OBJECT_ID('dbo.dropme2', 'U') IS NOT NULL\r\n    DROP TABLE dbo.dropme2;\r\n",
            "metadata": {},
            "outputs": [
                {
                    "output_type": "display_data",
                    "data": {
                        "text/html": "Commands completed successfully."
                    },
                    "metadata": {}
                },
                {
                    "output_type": "display_data",
                    "data": {
                        "text/html": "Commands completed successfully."
                    },
                    "metadata": {}
                },
                {
                    "output_type": "display_data",
                    "data": {
                        "text/html": "Total execution time: 00:00:00.003"
                    },
                    "metadata": {}
                }
            ],
            "execution_count": 28
        },
        {
            "cell_type": "markdown",
            "source": "### 3.B Write this in the \"new\" way introduced in SQL Server 2016\r\n",
            "metadata": {}
        },
        {
            "cell_type": "code",
            "source": "USE Northwind;\r\nGO\r\n\r\nDROP TABLE IF EXISTS dbo.dropme1, dbo.dropme2;\r\nGO",
            "metadata": {},
            "outputs": [
                {
                    "output_type": "display_data",
                    "data": {
                        "text/html": "Commands completed successfully."
                    },
                    "metadata": {}
                },
                {
                    "output_type": "display_data",
                    "data": {
                        "text/html": "Commands completed successfully."
                    },
                    "metadata": {}
                },
                {
                    "output_type": "display_data",
                    "data": {
                        "text/html": "Total execution time: 00:00:00.025"
                    },
                    "metadata": {}
                }
            ],
            "execution_count": 30
        },
        {
            "cell_type": "markdown",
            "source": "___\r\n## 4. Write this set of permission statements in a rerunnable way\r\n",
            "metadata": {}
        },
        {
            "cell_type": "code",
            "source": "USE Northwind;\r\nGO\r\n\r\nCREATE ROLE NewRole AUTHORIZATION dbo;\r\nGO\r\n\r\nGRANT SELECT on schema::dbo TO NewRole;\r\nGO\r\n\r\nCREATE USER NewUser WITHOUT LOGIN;\r\nGO\r\n\r\nALTER ROLE NewRole ADD MEMBER NewUser;\r\nGO\r\n\r\n--Validate\r\nEXECUTE AS USER = 'NewUser';\r\nGO\r\nSELECT SUSER_NAME(), USER_NAME(); \r\n\r\nSELECT TOP 1 CompanyName\r\nFROM dbo.Customers;\r\nGO\r\n\r\n\r\nREVERT;\r\nGO\r\n",
            "metadata": {},
            "outputs": [
                {
                    "output_type": "display_data",
                    "data": {
                        "text/html": "Commands completed successfully."
                    },
                    "metadata": {}
                },
                {
                    "output_type": "error",
                    "evalue": "Msg 15023, Level 16, State 1, Line 3\r\nUser, group, or role 'NewRole' already exists in the current database.",
                    "ename": "",
                    "traceback": []
                },
                {
                    "output_type": "display_data",
                    "data": {
                        "text/html": "Commands completed successfully."
                    },
                    "metadata": {}
                },
                {
                    "output_type": "error",
                    "evalue": "Msg 15023, Level 16, State 1, Line 9\r\nUser, group, or role 'NewUser' already exists in the current database.",
                    "ename": "",
                    "traceback": []
                },
                {
                    "output_type": "display_data",
                    "data": {
                        "text/html": "Commands completed successfully."
                    },
                    "metadata": {}
                },
                {
                    "output_type": "display_data",
                    "data": {
                        "text/html": "Commands completed successfully."
                    },
                    "metadata": {}
                },
                {
                    "output_type": "display_data",
                    "data": {
                        "text/html": "(1 row affected)"
                    },
                    "metadata": {}
                },
                {
                    "output_type": "display_data",
                    "data": {
                        "text/html": "(1 row affected)"
                    },
                    "metadata": {}
                },
                {
                    "output_type": "display_data",
                    "data": {
                        "text/html": "Commands completed successfully."
                    },
                    "metadata": {}
                },
                {
                    "output_type": "display_data",
                    "data": {
                        "text/html": "Total execution time: 00:00:00.241"
                    },
                    "metadata": {}
                },
                {
                    "output_type": "execute_result",
                    "metadata": {},
                    "execution_count": 31,
                    "data": {
                        "application/vnd.dataresource+json": {
                            "schema": {
                                "fields": [
                                    {
                                        "name": "(No column name)"
                                    },
                                    {
                                        "name": "(No column name)"
                                    }
                                ]
                            },
                            "data": [
                                {
                                    "0": "S-1-9-3-2557765982-1291698634-4099256974-3614178345",
                                    "1": "NewUser"
                                }
                            ]
                        },
                        "text/html": "<table><tr><th>(No column name)</th><th>(No column name)</th></tr><tr><td>S-1-9-3-2557765982-1291698634-4099256974-3614178345</td><td>NewUser</td></tr></table>"
                    }
                },
                {
                    "output_type": "execute_result",
                    "metadata": {},
                    "execution_count": 31,
                    "data": {
                        "application/vnd.dataresource+json": {
                            "schema": {
                                "fields": [
                                    {
                                        "name": "CompanyName"
                                    }
                                ]
                            },
                            "data": [
                                {
                                    "0": "Alfreds Futterkiste"
                                }
                            ]
                        },
                        "text/html": "<table><tr><th>CompanyName</th></tr><tr><td>Alfreds Futterkiste</td></tr></table>"
                    }
                }
            ],
            "execution_count": 31
        },
        {
            "cell_type": "markdown",
            "source": "### Solution goes here",
            "metadata": {}
        },
        {
            "cell_type": "code",
            "source": "USE Northwind;\r\nGO\r\n\r\nIF (SELECT DATABASE_PRINCIPAL_ID ( 'NewRole' )) IS NULL\r\n    CREATE ROLE NewRole AUTHORIZATION dbo;\r\nGO\r\n\r\nGRANT SELECT on schema::dbo TO NewRole;\r\nGO\r\n\r\nIF (SELECT DATABASE_PRINCIPAL_ID ( 'NewUser' )) IS NULL\r\n    CREATE USER NewUser WITHOUT LOGIN;\r\nGO\r\n\r\nALTER ROLE NewRole ADD MEMBER NewUser;\r\nGO\r\n\r\n--Validate\r\nEXECUTE AS USER = 'NewUser';\r\nGO\r\nSELECT SUSER_NAME(), USER_NAME(); \r\n\r\nSELECT TOP 1 CompanyName\r\nFROM dbo.Customers;\r\nGO\r\n\r\n\r\nREVERT;\r\nGO\r\n",
            "metadata": {},
            "outputs": [
                {
                    "output_type": "display_data",
                    "data": {
                        "text/html": "Commands completed successfully."
                    },
                    "metadata": {}
                },
                {
                    "output_type": "display_data",
                    "data": {
                        "text/html": "Commands completed successfully."
                    },
                    "metadata": {}
                },
                {
                    "output_type": "display_data",
                    "data": {
                        "text/html": "Commands completed successfully."
                    },
                    "metadata": {}
                },
                {
                    "output_type": "display_data",
                    "data": {
                        "text/html": "Commands completed successfully."
                    },
                    "metadata": {}
                },
                {
                    "output_type": "display_data",
                    "data": {
                        "text/html": "Commands completed successfully."
                    },
                    "metadata": {}
                },
                {
                    "output_type": "display_data",
                    "data": {
                        "text/html": "Commands completed successfully."
                    },
                    "metadata": {}
                },
                {
                    "output_type": "display_data",
                    "data": {
                        "text/html": "(1 row affected)"
                    },
                    "metadata": {}
                },
                {
                    "output_type": "display_data",
                    "data": {
                        "text/html": "(1 row affected)"
                    },
                    "metadata": {}
                },
                {
                    "output_type": "display_data",
                    "data": {
                        "text/html": "Commands completed successfully."
                    },
                    "metadata": {}
                },
                {
                    "output_type": "display_data",
                    "data": {
                        "text/html": "Total execution time: 00:00:00.060"
                    },
                    "metadata": {}
                },
                {
                    "output_type": "execute_result",
                    "metadata": {},
                    "execution_count": 33,
                    "data": {
                        "application/vnd.dataresource+json": {
                            "schema": {
                                "fields": [
                                    {
                                        "name": "(No column name)"
                                    },
                                    {
                                        "name": "(No column name)"
                                    }
                                ]
                            },
                            "data": [
                                {
                                    "0": "S-1-9-3-2557765982-1291698634-4099256974-3614178345",
                                    "1": "NewUser"
                                }
                            ]
                        },
                        "text/html": "<table><tr><th>(No column name)</th><th>(No column name)</th></tr><tr><td>S-1-9-3-2557765982-1291698634-4099256974-3614178345</td><td>NewUser</td></tr></table>"
                    }
                },
                {
                    "output_type": "execute_result",
                    "metadata": {},
                    "execution_count": 33,
                    "data": {
                        "application/vnd.dataresource+json": {
                            "schema": {
                                "fields": [
                                    {
                                        "name": "CompanyName"
                                    }
                                ]
                            },
                            "data": [
                                {
                                    "0": "Alfreds Futterkiste"
                                }
                            ]
                        },
                        "text/html": "<table><tr><th>CompanyName</th></tr><tr><td>Alfreds Futterkiste</td></tr></table>"
                    }
                }
            ],
            "execution_count": 33
        }
    ]
}